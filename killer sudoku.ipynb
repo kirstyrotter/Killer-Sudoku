{
 "cells": [
  {
   "cell_type": "markdown",
   "metadata": {},
   "source": [
    "# Given N and K, how many ways can N be written as the sum of K numbers in the range of 1 to 9?#"
   ]
  },
  {
   "cell_type": "code",
   "execution_count": 3,
   "metadata": {},
   "outputs": [],
   "source": [
    "def permutations_w_constraints(n_perm_elements, sum_total, min_value, max_value):\n",
    "    # base case\n",
    "    if n_perm_elements == 1:\n",
    "        if (sum_total <= max_value) & (sum_total >= min_value):\n",
    "            yield (sum_total,)\n",
    "    else:\n",
    "        for value in range(min_value, max_value + 1):\n",
    "            for permutation in permutations_w_constraints(\n",
    "                n_perm_elements - 1, sum_total - value, min_value, max_value\n",
    "            ):\n",
    "                yield (value,) + permutation"
   ]
  },
  {
   "cell_type": "code",
   "execution_count": 4,
   "metadata": {},
   "outputs": [],
   "source": [
    "def get_unique_list(seq):\n",
    "    seen = []\n",
    "    return [x for x in seq if x not in seen and not seen.append(x)]"
   ]
  },
  {
   "cell_type": "markdown",
   "metadata": {},
   "source": [
    "### List of ways to write a number as the sum of 2 unique numbers between 1 and 9 ###"
   ]
  },
  {
   "cell_type": "code",
   "execution_count": 5,
   "metadata": {},
   "outputs": [
    {
     "name": "stdout",
     "output_type": "stream",
     "text": [
      "\n"
     ]
    }
   ],
   "source": [
    "list1 = list(permutations_w_constraints(2,36,1,9))\n",
    "list1sort = list(sorted(j) for j in list1)\n",
    "pairs = get_unique_list(list1sort)\n",
    "print(*pairs, sep = \"\\n\")"
   ]
  },
  {
   "cell_type": "code",
   "execution_count": 6,
   "metadata": {},
   "outputs": [
    {
     "name": "stdout",
     "output_type": "stream",
     "text": [
      "\n"
     ]
    }
   ],
   "source": [
    "dup_pairs = [i for i in pairs for n in range(1) if i[n]==i[n+1]]\n",
    "\n",
    "fin_pairs = []\n",
    "for j in pairs:\n",
    "    if j not in dup_pairs:\n",
    "        fin_pairs.append(j)\n",
    "print(*fin_pairs, sep= \"\\n\")"
   ]
  },
  {
   "cell_type": "markdown",
   "metadata": {},
   "source": [
    "### List of ways to write a number as the sum of 3 unique numbers between 1 and 9 ###"
   ]
  },
  {
   "cell_type": "code",
   "execution_count": 7,
   "metadata": {},
   "outputs": [
    {
     "name": "stdout",
     "output_type": "stream",
     "text": [
      "[1, 18, 19]\n",
      "[2, 17, 19]\n",
      "[2, 18, 18]\n",
      "[3, 16, 19]\n",
      "[3, 17, 18]\n",
      "[4, 15, 19]\n",
      "[4, 16, 18]\n",
      "[4, 17, 17]\n",
      "[5, 14, 19]\n",
      "[5, 15, 18]\n",
      "[5, 16, 17]\n",
      "[6, 13, 19]\n",
      "[6, 14, 18]\n",
      "[6, 15, 17]\n",
      "[6, 16, 16]\n",
      "[7, 12, 19]\n",
      "[7, 13, 18]\n",
      "[7, 14, 17]\n",
      "[7, 15, 16]\n",
      "[8, 11, 19]\n",
      "[8, 12, 18]\n",
      "[8, 13, 17]\n",
      "[8, 14, 16]\n",
      "[8, 15, 15]\n",
      "[9, 10, 19]\n",
      "[9, 11, 18]\n",
      "[9, 12, 17]\n",
      "[9, 13, 16]\n",
      "[9, 14, 15]\n",
      "[10, 10, 18]\n",
      "[10, 11, 17]\n",
      "[10, 12, 16]\n",
      "[10, 13, 15]\n",
      "[10, 14, 14]\n",
      "[11, 11, 16]\n",
      "[11, 12, 15]\n",
      "[11, 13, 14]\n",
      "[12, 12, 14]\n",
      "[12, 13, 13]\n"
     ]
    }
   ],
   "source": [
    "list2= list(permutations_w_constraints(3,38,1,19))\n",
    "list2sort = list(sorted(j) for j in list2)\n",
    "tripples = get_unique_list(list2sort)\n",
    "print(*tripples, sep = \"\\n\")"
   ]
  },
  {
   "cell_type": "code",
   "execution_count": 284,
   "metadata": {},
   "outputs": [
    {
     "name": "stdout",
     "output_type": "stream",
     "text": [
      "[1, 2, 9]\n",
      "[1, 3, 8]\n",
      "[1, 4, 7]\n",
      "[1, 5, 6]\n",
      "[2, 3, 7]\n",
      "[2, 4, 6]\n",
      "[3, 4, 5]\n"
     ]
    }
   ],
   "source": [
    "dup_tripples = [i for i in tripples for n in range(2) if i[n]==i[n+1]]\n",
    "\n",
    "fin_tripples = []\n",
    "for j in tripples:\n",
    "    if j not in dup_tripples:\n",
    "        fin_tripples.append(j)\n",
    "print(*fin_tripples, sep = \"\\n\")"
   ]
  },
  {
   "cell_type": "markdown",
   "metadata": {},
   "source": [
    "### List of ways to write a number as the sum of 4 unique numbers between 1 and 9 ###"
   ]
  },
  {
   "cell_type": "code",
   "execution_count": 279,
   "metadata": {},
   "outputs": [
    {
     "name": "stdout",
     "output_type": "stream",
     "text": [
      "[1, 1, 9, 9]\n",
      "[1, 2, 8, 9]\n",
      "[1, 3, 7, 9]\n",
      "[1, 3, 8, 8]\n",
      "[1, 4, 6, 9]\n",
      "[1, 4, 7, 8]\n",
      "[1, 5, 5, 9]\n",
      "[1, 5, 6, 8]\n",
      "[1, 5, 7, 7]\n",
      "[1, 6, 6, 7]\n",
      "[2, 2, 7, 9]\n",
      "[2, 2, 8, 8]\n",
      "[2, 3, 6, 9]\n",
      "[2, 3, 7, 8]\n",
      "[2, 4, 5, 9]\n",
      "[2, 4, 6, 8]\n",
      "[2, 4, 7, 7]\n",
      "[2, 5, 5, 8]\n",
      "[2, 5, 6, 7]\n",
      "[2, 6, 6, 6]\n",
      "[3, 3, 5, 9]\n",
      "[3, 3, 6, 8]\n",
      "[3, 3, 7, 7]\n",
      "[3, 4, 4, 9]\n",
      "[3, 4, 5, 8]\n",
      "[3, 4, 6, 7]\n",
      "[3, 5, 5, 7]\n",
      "[3, 5, 6, 6]\n",
      "[4, 4, 4, 8]\n",
      "[4, 4, 5, 7]\n",
      "[4, 4, 6, 6]\n",
      "[4, 5, 5, 6]\n",
      "[5, 5, 5, 5]\n"
     ]
    }
   ],
   "source": [
    "list3 = list(permutations_w_constraints(4,20,1,9))\n",
    "list3sort = list(sorted(j) for j in list3)\n",
    "quads = get_unique_list(list3sort)\n",
    "print(*quads, sep = \"\\n\")"
   ]
  },
  {
   "cell_type": "code",
   "execution_count": 280,
   "metadata": {},
   "outputs": [
    {
     "name": "stdout",
     "output_type": "stream",
     "text": [
      "[1, 2, 8, 9]\n",
      "[1, 3, 7, 9]\n",
      "[1, 4, 6, 9]\n",
      "[1, 4, 7, 8]\n",
      "[1, 5, 6, 8]\n",
      "[2, 3, 6, 9]\n",
      "[2, 3, 7, 8]\n",
      "[2, 4, 5, 9]\n",
      "[2, 4, 6, 8]\n",
      "[2, 5, 6, 7]\n",
      "[3, 4, 5, 8]\n",
      "[3, 4, 6, 7]\n"
     ]
    }
   ],
   "source": [
    "dup_quads = [i for i in quads for n in range(3) if i[n]==i[n+1]]\n",
    "\n",
    "fin_quads = []\n",
    "for j in quads:\n",
    "    if j not in dup_quads:\n",
    "        fin_quads.append(j)\n",
    "print(*fin_quads, sep = \"\\n\")"
   ]
  },
  {
   "cell_type": "markdown",
   "metadata": {},
   "source": [
    "### List of ways to write a number as the sum of K unique numbers between 1 and 9 ###"
   ]
  },
  {
   "cell_type": "code",
   "execution_count": 231,
   "metadata": {},
   "outputs": [
    {
     "name": "stdout",
     "output_type": "stream",
     "text": [
      "[1, 1, 1, 9, 9, 9]\n",
      "[1, 1, 2, 8, 9, 9]\n",
      "[1, 1, 3, 7, 9, 9]\n",
      "[1, 1, 3, 8, 8, 9]\n",
      "[1, 1, 4, 6, 9, 9]\n",
      "[1, 1, 4, 7, 8, 9]\n",
      "[1, 1, 4, 8, 8, 8]\n",
      "[1, 1, 5, 5, 9, 9]\n",
      "[1, 1, 5, 6, 8, 9]\n",
      "[1, 1, 5, 7, 7, 9]\n",
      "[1, 1, 5, 7, 8, 8]\n",
      "[1, 1, 6, 6, 7, 9]\n",
      "[1, 1, 6, 6, 8, 8]\n",
      "[1, 1, 6, 7, 7, 8]\n",
      "[1, 1, 7, 7, 7, 7]\n",
      "[1, 2, 2, 7, 9, 9]\n",
      "[1, 2, 2, 8, 8, 9]\n",
      "[1, 2, 3, 6, 9, 9]\n",
      "[1, 2, 3, 7, 8, 9]\n",
      "[1, 2, 3, 8, 8, 8]\n",
      "[1, 2, 4, 5, 9, 9]\n",
      "[1, 2, 4, 6, 8, 9]\n",
      "[1, 2, 4, 7, 7, 9]\n",
      "[1, 2, 4, 7, 8, 8]\n",
      "[1, 2, 5, 5, 8, 9]\n",
      "[1, 2, 5, 6, 7, 9]\n",
      "[1, 2, 5, 6, 8, 8]\n",
      "[1, 2, 5, 7, 7, 8]\n",
      "[1, 2, 6, 6, 6, 9]\n",
      "[1, 2, 6, 6, 7, 8]\n",
      "[1, 2, 6, 7, 7, 7]\n",
      "[1, 3, 3, 5, 9, 9]\n",
      "[1, 3, 3, 6, 8, 9]\n",
      "[1, 3, 3, 7, 7, 9]\n",
      "[1, 3, 3, 7, 8, 8]\n",
      "[1, 3, 4, 4, 9, 9]\n",
      "[1, 3, 4, 5, 8, 9]\n",
      "[1, 3, 4, 6, 7, 9]\n",
      "[1, 3, 4, 6, 8, 8]\n",
      "[1, 3, 4, 7, 7, 8]\n",
      "[1, 3, 5, 5, 7, 9]\n",
      "[1, 3, 5, 5, 8, 8]\n",
      "[1, 3, 5, 6, 6, 9]\n",
      "[1, 3, 5, 6, 7, 8]\n",
      "[1, 3, 5, 7, 7, 7]\n",
      "[1, 3, 6, 6, 6, 8]\n",
      "[1, 3, 6, 6, 7, 7]\n",
      "[1, 4, 4, 4, 8, 9]\n",
      "[1, 4, 4, 5, 7, 9]\n",
      "[1, 4, 4, 5, 8, 8]\n",
      "[1, 4, 4, 6, 6, 9]\n",
      "[1, 4, 4, 6, 7, 8]\n",
      "[1, 4, 4, 7, 7, 7]\n",
      "[1, 4, 5, 5, 6, 9]\n",
      "[1, 4, 5, 5, 7, 8]\n",
      "[1, 4, 5, 6, 6, 8]\n",
      "[1, 4, 5, 6, 7, 7]\n",
      "[1, 4, 6, 6, 6, 7]\n",
      "[1, 5, 5, 5, 5, 9]\n",
      "[1, 5, 5, 5, 6, 8]\n",
      "[1, 5, 5, 5, 7, 7]\n",
      "[1, 5, 5, 6, 6, 7]\n",
      "[1, 5, 6, 6, 6, 6]\n",
      "[2, 2, 2, 6, 9, 9]\n",
      "[2, 2, 2, 7, 8, 9]\n",
      "[2, 2, 2, 8, 8, 8]\n",
      "[2, 2, 3, 5, 9, 9]\n",
      "[2, 2, 3, 6, 8, 9]\n",
      "[2, 2, 3, 7, 7, 9]\n",
      "[2, 2, 3, 7, 8, 8]\n",
      "[2, 2, 4, 4, 9, 9]\n",
      "[2, 2, 4, 5, 8, 9]\n",
      "[2, 2, 4, 6, 7, 9]\n",
      "[2, 2, 4, 6, 8, 8]\n",
      "[2, 2, 4, 7, 7, 8]\n",
      "[2, 2, 5, 5, 7, 9]\n",
      "[2, 2, 5, 5, 8, 8]\n",
      "[2, 2, 5, 6, 6, 9]\n",
      "[2, 2, 5, 6, 7, 8]\n",
      "[2, 2, 5, 7, 7, 7]\n",
      "[2, 2, 6, 6, 6, 8]\n",
      "[2, 2, 6, 6, 7, 7]\n",
      "[2, 3, 3, 4, 9, 9]\n",
      "[2, 3, 3, 5, 8, 9]\n",
      "[2, 3, 3, 6, 7, 9]\n",
      "[2, 3, 3, 6, 8, 8]\n",
      "[2, 3, 3, 7, 7, 8]\n",
      "[2, 3, 4, 4, 8, 9]\n",
      "[2, 3, 4, 5, 7, 9]\n",
      "[2, 3, 4, 5, 8, 8]\n",
      "[2, 3, 4, 6, 6, 9]\n",
      "[2, 3, 4, 6, 7, 8]\n",
      "[2, 3, 4, 7, 7, 7]\n",
      "[2, 3, 5, 5, 6, 9]\n",
      "[2, 3, 5, 5, 7, 8]\n",
      "[2, 3, 5, 6, 6, 8]\n",
      "[2, 3, 5, 6, 7, 7]\n",
      "[2, 3, 6, 6, 6, 7]\n",
      "[2, 4, 4, 4, 7, 9]\n",
      "[2, 4, 4, 4, 8, 8]\n",
      "[2, 4, 4, 5, 6, 9]\n",
      "[2, 4, 4, 5, 7, 8]\n",
      "[2, 4, 4, 6, 6, 8]\n",
      "[2, 4, 4, 6, 7, 7]\n",
      "[2, 4, 5, 5, 5, 9]\n",
      "[2, 4, 5, 5, 6, 8]\n",
      "[2, 4, 5, 5, 7, 7]\n",
      "[2, 4, 5, 6, 6, 7]\n",
      "[2, 4, 6, 6, 6, 6]\n",
      "[2, 5, 5, 5, 5, 8]\n",
      "[2, 5, 5, 5, 6, 7]\n",
      "[2, 5, 5, 6, 6, 6]\n",
      "[3, 3, 3, 3, 9, 9]\n",
      "[3, 3, 3, 4, 8, 9]\n",
      "[3, 3, 3, 5, 7, 9]\n",
      "[3, 3, 3, 5, 8, 8]\n",
      "[3, 3, 3, 6, 6, 9]\n",
      "[3, 3, 3, 6, 7, 8]\n",
      "[3, 3, 3, 7, 7, 7]\n",
      "[3, 3, 4, 4, 7, 9]\n",
      "[3, 3, 4, 4, 8, 8]\n",
      "[3, 3, 4, 5, 6, 9]\n",
      "[3, 3, 4, 5, 7, 8]\n",
      "[3, 3, 4, 6, 6, 8]\n",
      "[3, 3, 4, 6, 7, 7]\n",
      "[3, 3, 5, 5, 5, 9]\n",
      "[3, 3, 5, 5, 6, 8]\n",
      "[3, 3, 5, 5, 7, 7]\n",
      "[3, 3, 5, 6, 6, 7]\n",
      "[3, 3, 6, 6, 6, 6]\n",
      "[3, 4, 4, 4, 6, 9]\n",
      "[3, 4, 4, 4, 7, 8]\n",
      "[3, 4, 4, 5, 5, 9]\n",
      "[3, 4, 4, 5, 6, 8]\n",
      "[3, 4, 4, 5, 7, 7]\n",
      "[3, 4, 4, 6, 6, 7]\n",
      "[3, 4, 5, 5, 5, 8]\n",
      "[3, 4, 5, 5, 6, 7]\n",
      "[3, 4, 5, 6, 6, 6]\n",
      "[3, 5, 5, 5, 5, 7]\n",
      "[3, 5, 5, 5, 6, 6]\n",
      "[4, 4, 4, 4, 5, 9]\n",
      "[4, 4, 4, 4, 6, 8]\n",
      "[4, 4, 4, 4, 7, 7]\n",
      "[4, 4, 4, 5, 5, 8]\n",
      "[4, 4, 4, 5, 6, 7]\n",
      "[4, 4, 4, 6, 6, 6]\n",
      "[4, 4, 5, 5, 5, 7]\n",
      "[4, 4, 5, 5, 6, 6]\n",
      "[4, 5, 5, 5, 5, 6]\n",
      "[5, 5, 5, 5, 5, 5]\n"
     ]
    }
   ],
   "source": [
    "list4 = list(permutations_w_constraints(6,30,1,9))\n",
    "list4sort = list(sorted(j) for j in list4)\n",
    "combs = get_unique_list(list4sort)\n",
    "print(*combs, sep = \"\\n\")"
   ]
  },
  {
   "cell_type": "code",
   "execution_count": 232,
   "metadata": {},
   "outputs": [
    {
     "name": "stdout",
     "output_type": "stream",
     "text": [
      "[1, 2, 3, 7, 8, 9]\n",
      "[1, 2, 4, 6, 8, 9]\n",
      "[1, 2, 5, 6, 7, 9]\n",
      "[1, 3, 4, 5, 8, 9]\n",
      "[1, 3, 4, 6, 7, 9]\n",
      "[1, 3, 5, 6, 7, 8]\n",
      "[2, 3, 4, 5, 7, 9]\n",
      "[2, 3, 4, 6, 7, 8]\n"
     ]
    }
   ],
   "source": [
    "dup_combs = [i for i in combs for n in range(6-1) if i[n]==i[n+1]]\n",
    "\n",
    "fin_combs = []\n",
    "for j in combs:\n",
    "    if j not in dup_combs:\n",
    "        fin_combs.append(j)\n",
    "print(*fin_combs, sep = \"\\n\")"
   ]
  }
 ],
 "metadata": {
  "kernelspec": {
   "display_name": "Python 3",
   "language": "python",
   "name": "python3"
  },
  "language_info": {
   "codemirror_mode": {
    "name": "ipython",
    "version": 3
   },
   "file_extension": ".py",
   "mimetype": "text/x-python",
   "name": "python",
   "nbconvert_exporter": "python",
   "pygments_lexer": "ipython3",
   "version": "3.7.4"
  }
 },
 "nbformat": 4,
 "nbformat_minor": 2
}
